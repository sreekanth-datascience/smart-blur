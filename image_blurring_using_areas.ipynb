{
 "cells": [
  {
   "cell_type": "code",
   "execution_count": 1,
   "id": "8568b4b7",
   "metadata": {},
   "outputs": [],
   "source": [
    "import cv2\n",
    "import numpy as np"
   ]
  },
  {
   "cell_type": "code",
   "execution_count": 2,
   "id": "36b552fb",
   "metadata": {},
   "outputs": [],
   "source": [
    "face_cascade = cv2.CascadeClassifier('haarcascade_frontalface_default.xml')"
   ]
  },
  {
   "cell_type": "code",
   "execution_count": 14,
   "id": "bcae30cd",
   "metadata": {},
   "outputs": [
    {
     "name": "stdout",
     "output_type": "stream",
     "text": [
      "Coordinates of faces\n",
      "[[115  88 106 106]\n",
      " [637 133  89  89]\n",
      " [480 112  99  99]\n",
      " [280 116  86  86]]\n",
      "--------------------------------------------------\n",
      "Area of entire image\n",
      "264196\n",
      "--------------------------------------------------\n",
      "{0: 11236, 1: 7921, 2: 9801, 3: 7396}\n",
      "sorted values dict is \n",
      "{3: 7396, 1: 7921, 2: 9801, 0: 11236}\n",
      "<class 'int'>\n",
      "**********\n",
      "[280 116  86  86]\n",
      "<class 'int'>\n",
      "**********\n",
      "[637 133  89  89]\n",
      "<class 'int'>\n",
      "**********\n",
      "[480 112  99  99]\n"
     ]
    }
   ],
   "source": [
    "\n",
    "def blur_image(img_path):\n",
    "    img = cv2.imread(img_path)\n",
    "    gray = cv2.cvtColor(img, cv2.COLOR_BGR2GRAY)\n",
    "    faces = face_cascade.detectMultiScale(gray, 1.1, 6)\n",
    "    d = {}\n",
    "    print('Coordinates of faces')\n",
    "    \n",
    "    print(faces)\n",
    "    print('-'*50)\n",
    "    print('Area of entire image')\n",
    "    print(img.shape[0] ** 2)\n",
    "    print('-'*50)\n",
    "    for i in range(len(faces)): \n",
    "\n",
    "        area = faces[i][2]**2\n",
    "        \n",
    "        d[i] = area\n",
    "        \n",
    "    print(d)\n",
    "    count = 0\n",
    "    maximum_area = max(d.values())\n",
    "    print('sorted values dict is ')\n",
    "    sorted_values = dict(sorted(d.items(), key=lambda item: item[1]))\n",
    "    print(sorted_values)\n",
    "    \n",
    "    for k, v in sorted_values.items():\n",
    "        print(type(k))\n",
    "        print('*'*10)\n",
    "        print(faces[k])\n",
    "        if(count == len(faces)-2):\n",
    "            break\n",
    "            \n",
    "        else: \n",
    "            img[faces[k][1]:faces[k][1]+faces[k][3], faces[k][0]:faces[k][0]+faces[k][2]] = \\\n",
    "            cv2.blur(img[faces[k][1]:faces[k][1]+faces[k][3], faces[k][0]:faces[k][0]+faces[k][2]], (40,40))\n",
    "            count+=1\n",
    "\n",
    "        \n",
    "        \n",
    "        \n",
    "#     key_min_area = [key for key in d if d[key] == maximum_area]\n",
    "#     print(key_min_area)\n",
    "    \n",
    "#     img[faces[key_min_area][0][1]:faces[key_min_area][0][1]+faces[key_min_area][0][3], faces[key_min_area][0][0]:faces[key_min_area][0][0]+faces[key_min_area][0][2]] = \\\n",
    "#     cv2.blur(img[faces[key_min_area][0][1]:faces[key_min_area][0][1]+faces[key_min_area][0][3], faces[key_min_area][0][0]:faces[key_min_area][0][0]+faces[key_min_area][0][2]], (40,40))\n",
    "    cv2.imshow('img', img)\n",
    "    cv2.waitKey(10)\n",
    "        \n",
    "#     for i in range(len(faces)):\n",
    "#         \n",
    "\n",
    "  \n",
    "#     image[y:y+h, x:x+w] = cv2.blur(image[y:y+h, x:x+w] ,(23,23))\n",
    "\n",
    "# for (x, y, w, h) in faces:\n",
    "\n",
    "blur_image('image_3.jpg')"
   ]
  },
  {
   "cell_type": "code",
   "execution_count": 12,
   "id": "5ab7003a",
   "metadata": {},
   "outputs": [],
   "source": [
    "# img = cv2.imread('image_3.jpg')\n",
    "# gray = cv2.cvtColor(img, cv2.COLOR_BGR2GRAY)\n",
    "# faces = face_cascade.detectMultiScale(gray, 1.1, 4)\n",
    "# d = {}\n",
    "# print('Coordinates of faces')\n",
    "    \n",
    "# print(faces)\n",
    "# print('-'*50)\n",
    "# print('Area of entire image')\n",
    "# print(img.shape[0] ** 2)\n",
    "# print('-'*50)\n",
    "# for i in range(len(faces)): \n",
    "\n",
    "#         area = faces[i][2]**2\n",
    "        \n",
    "#         d[i] = area\n",
    "        \n",
    "# print(d)\n",
    "# minimum_area = max(d.values())\n",
    "# key_min_area = [key for key in d if d[key] == minimum_area]\n",
    "# print(key_min_area)\n",
    "# img[faces[key_min_area][0][1]:faces[key_min_area][0][1]+faces[key_min_area][3],faces[key_min_area][0]:faces[key_min_area][0]+faces[key_min_area][2]] = \\\n",
    "# cv2.blur(img[faces[key][0][1]:faces[i][1]+faces[i][3], faces[i][0]:faces[i][0]+faces[i][2]], (40,40))\n",
    "\n",
    "# img[faces[key_min_area][1]:faces[key_min_area][1]+faces[key_min_area][3], faces[key_min_area][0]:faces[key_min_area][0]+faces[key_min_area][2]] = cv2.blur(img[faces[key_min_area][1]:faces[key_min_area][1]+faces[key_min_area][3], faces[key_min_area][0]:faces[key_min_area][0]+faces[key_min_area][2]], (40,40))\n",
    "# cv2.imshow('img', img)\n",
    "# cv2.waitKey(10)"
   ]
  },
  {
   "cell_type": "code",
   "execution_count": 34,
   "id": "94d2c83e",
   "metadata": {},
   "outputs": [
    {
     "data": {
      "text/plain": [
       "115"
      ]
     },
     "execution_count": 34,
     "metadata": {},
     "output_type": "execute_result"
    }
   ],
   "source": [
    "faces[key_min_area][0][0]"
   ]
  },
  {
   "cell_type": "code",
   "execution_count": null,
   "id": "9c074725",
   "metadata": {},
   "outputs": [],
   "source": []
  },
  {
   "cell_type": "code",
   "execution_count": null,
   "id": "da14f41b",
   "metadata": {},
   "outputs": [],
   "source": []
  },
  {
   "cell_type": "code",
   "execution_count": null,
   "id": "0e1c2b27",
   "metadata": {},
   "outputs": [],
   "source": []
  },
  {
   "cell_type": "code",
   "execution_count": 20,
   "id": "47aade4c",
   "metadata": {},
   "outputs": [],
   "source": [
    "#         length = abs(np.sum(np.subtract(faces[i][0], faces[i][2])))\n",
    "#         width = abs(np.sum(np.subtract(faces[i][1], faces[i][3])))"
   ]
  },
  {
   "cell_type": "code",
   "execution_count": null,
   "id": "9e30e626",
   "metadata": {},
   "outputs": [],
   "source": []
  },
  {
   "cell_type": "code",
   "execution_count": 21,
   "id": "01454185",
   "metadata": {},
   "outputs": [],
   "source": [
    "# length = abs(np.sum(np.subtract(faces[0][0], faces[0][2])))\n",
    "# width = abs(np.sum(np.subtract(faces[0][1], faces[0][3])))\n",
    "# print(length)\n",
    "# print(width)"
   ]
  },
  {
   "cell_type": "code",
   "execution_count": null,
   "id": "59fab676",
   "metadata": {},
   "outputs": [],
   "source": []
  },
  {
   "cell_type": "code",
   "execution_count": null,
   "id": "cf8d540e",
   "metadata": {},
   "outputs": [],
   "source": []
  },
  {
   "cell_type": "code",
   "execution_count": null,
   "id": "34c04b0b",
   "metadata": {},
   "outputs": [],
   "source": []
  }
 ],
 "metadata": {
  "kernelspec": {
   "display_name": "face_seg_env",
   "language": "python",
   "name": "face_seg_env"
  },
  "language_info": {
   "codemirror_mode": {
    "name": "ipython",
    "version": 3
   },
   "file_extension": ".py",
   "mimetype": "text/x-python",
   "name": "python",
   "nbconvert_exporter": "python",
   "pygments_lexer": "ipython3",
   "version": "3.7.8"
  }
 },
 "nbformat": 4,
 "nbformat_minor": 5
}
